{
 "cells": [
  {
   "cell_type": "code",
   "execution_count": null,
   "metadata": {},
   "outputs": [],
   "source": []
  },
  {
   "cell_type": "markdown",
   "metadata": {},
   "source": [
    "Problem Statement:\n",
    "     \n",
    "  Build a model which classifies patients who have breast cancer. "
   ]
  },
  {
   "cell_type": "markdown",
   "metadata": {},
   "source": [
    " Dataset is downloaded from kaggle: https://www.kaggle.com/uciml/breast-cancer-wisconsin-data"
   ]
  },
  {
   "cell_type": "code",
   "execution_count": 29,
   "metadata": {},
   "outputs": [],
   "source": [
    "#Load required libararies\n",
    "import numpy as np\n",
    "import pandas as pd \n",
    "import matplotlib.pyplot as plt"
   ]
  },
  {
   "cell_type": "code",
   "execution_count": 6,
   "metadata": {},
   "outputs": [
    {
     "name": "stdout",
     "output_type": "stream",
     "text": [
      "File Name                                             Modified             Size\n",
      "data.csv                                       2019-09-19 21:54:02       125204\n"
     ]
    }
   ],
   "source": [
    "#Unzip the Breast_cancer zip file\n",
    "import zipfile\n",
    "\n",
    "with zipfile.ZipFile('breast_cancer.zip','r') as f:\n",
    "    f.printdir();\n",
    "    f.extractall();  #dataset is extracted into current directory"
   ]
  },
  {
   "cell_type": "code",
   "execution_count": 48,
   "metadata": {},
   "outputs": [
    {
     "data": {
      "text/html": [
       "<div>\n",
       "<style scoped>\n",
       "    .dataframe tbody tr th:only-of-type {\n",
       "        vertical-align: middle;\n",
       "    }\n",
       "\n",
       "    .dataframe tbody tr th {\n",
       "        vertical-align: top;\n",
       "    }\n",
       "\n",
       "    .dataframe thead th {\n",
       "        text-align: right;\n",
       "    }\n",
       "</style>\n",
       "<table border=\"1\" class=\"dataframe\">\n",
       "  <thead>\n",
       "    <tr style=\"text-align: right;\">\n",
       "      <th></th>\n",
       "      <th>id</th>\n",
       "      <th>diagnosis</th>\n",
       "      <th>radius_mean</th>\n",
       "      <th>texture_mean</th>\n",
       "      <th>perimeter_mean</th>\n",
       "      <th>area_mean</th>\n",
       "      <th>smoothness_mean</th>\n",
       "      <th>compactness_mean</th>\n",
       "      <th>concavity_mean</th>\n",
       "      <th>concave points_mean</th>\n",
       "      <th>...</th>\n",
       "      <th>texture_worst</th>\n",
       "      <th>perimeter_worst</th>\n",
       "      <th>area_worst</th>\n",
       "      <th>smoothness_worst</th>\n",
       "      <th>compactness_worst</th>\n",
       "      <th>concavity_worst</th>\n",
       "      <th>concave points_worst</th>\n",
       "      <th>symmetry_worst</th>\n",
       "      <th>fractal_dimension_worst</th>\n",
       "      <th>Unnamed: 32</th>\n",
       "    </tr>\n",
       "  </thead>\n",
       "  <tbody>\n",
       "    <tr>\n",
       "      <th>0</th>\n",
       "      <td>842302</td>\n",
       "      <td>M</td>\n",
       "      <td>17.99</td>\n",
       "      <td>10.38</td>\n",
       "      <td>122.80</td>\n",
       "      <td>1001.0</td>\n",
       "      <td>0.11840</td>\n",
       "      <td>0.27760</td>\n",
       "      <td>0.3001</td>\n",
       "      <td>0.14710</td>\n",
       "      <td>...</td>\n",
       "      <td>17.33</td>\n",
       "      <td>184.60</td>\n",
       "      <td>2019.0</td>\n",
       "      <td>0.1622</td>\n",
       "      <td>0.6656</td>\n",
       "      <td>0.7119</td>\n",
       "      <td>0.2654</td>\n",
       "      <td>0.4601</td>\n",
       "      <td>0.11890</td>\n",
       "      <td>NaN</td>\n",
       "    </tr>\n",
       "    <tr>\n",
       "      <th>1</th>\n",
       "      <td>842517</td>\n",
       "      <td>M</td>\n",
       "      <td>20.57</td>\n",
       "      <td>17.77</td>\n",
       "      <td>132.90</td>\n",
       "      <td>1326.0</td>\n",
       "      <td>0.08474</td>\n",
       "      <td>0.07864</td>\n",
       "      <td>0.0869</td>\n",
       "      <td>0.07017</td>\n",
       "      <td>...</td>\n",
       "      <td>23.41</td>\n",
       "      <td>158.80</td>\n",
       "      <td>1956.0</td>\n",
       "      <td>0.1238</td>\n",
       "      <td>0.1866</td>\n",
       "      <td>0.2416</td>\n",
       "      <td>0.1860</td>\n",
       "      <td>0.2750</td>\n",
       "      <td>0.08902</td>\n",
       "      <td>NaN</td>\n",
       "    </tr>\n",
       "    <tr>\n",
       "      <th>2</th>\n",
       "      <td>84300903</td>\n",
       "      <td>M</td>\n",
       "      <td>19.69</td>\n",
       "      <td>21.25</td>\n",
       "      <td>130.00</td>\n",
       "      <td>1203.0</td>\n",
       "      <td>0.10960</td>\n",
       "      <td>0.15990</td>\n",
       "      <td>0.1974</td>\n",
       "      <td>0.12790</td>\n",
       "      <td>...</td>\n",
       "      <td>25.53</td>\n",
       "      <td>152.50</td>\n",
       "      <td>1709.0</td>\n",
       "      <td>0.1444</td>\n",
       "      <td>0.4245</td>\n",
       "      <td>0.4504</td>\n",
       "      <td>0.2430</td>\n",
       "      <td>0.3613</td>\n",
       "      <td>0.08758</td>\n",
       "      <td>NaN</td>\n",
       "    </tr>\n",
       "    <tr>\n",
       "      <th>3</th>\n",
       "      <td>84348301</td>\n",
       "      <td>M</td>\n",
       "      <td>11.42</td>\n",
       "      <td>20.38</td>\n",
       "      <td>77.58</td>\n",
       "      <td>386.1</td>\n",
       "      <td>0.14250</td>\n",
       "      <td>0.28390</td>\n",
       "      <td>0.2414</td>\n",
       "      <td>0.10520</td>\n",
       "      <td>...</td>\n",
       "      <td>26.50</td>\n",
       "      <td>98.87</td>\n",
       "      <td>567.7</td>\n",
       "      <td>0.2098</td>\n",
       "      <td>0.8663</td>\n",
       "      <td>0.6869</td>\n",
       "      <td>0.2575</td>\n",
       "      <td>0.6638</td>\n",
       "      <td>0.17300</td>\n",
       "      <td>NaN</td>\n",
       "    </tr>\n",
       "    <tr>\n",
       "      <th>4</th>\n",
       "      <td>84358402</td>\n",
       "      <td>M</td>\n",
       "      <td>20.29</td>\n",
       "      <td>14.34</td>\n",
       "      <td>135.10</td>\n",
       "      <td>1297.0</td>\n",
       "      <td>0.10030</td>\n",
       "      <td>0.13280</td>\n",
       "      <td>0.1980</td>\n",
       "      <td>0.10430</td>\n",
       "      <td>...</td>\n",
       "      <td>16.67</td>\n",
       "      <td>152.20</td>\n",
       "      <td>1575.0</td>\n",
       "      <td>0.1374</td>\n",
       "      <td>0.2050</td>\n",
       "      <td>0.4000</td>\n",
       "      <td>0.1625</td>\n",
       "      <td>0.2364</td>\n",
       "      <td>0.07678</td>\n",
       "      <td>NaN</td>\n",
       "    </tr>\n",
       "  </tbody>\n",
       "</table>\n",
       "<p>5 rows × 33 columns</p>\n",
       "</div>"
      ],
      "text/plain": [
       "         id diagnosis  radius_mean  texture_mean  perimeter_mean  area_mean  \\\n",
       "0    842302         M        17.99         10.38          122.80     1001.0   \n",
       "1    842517         M        20.57         17.77          132.90     1326.0   \n",
       "2  84300903         M        19.69         21.25          130.00     1203.0   \n",
       "3  84348301         M        11.42         20.38           77.58      386.1   \n",
       "4  84358402         M        20.29         14.34          135.10     1297.0   \n",
       "\n",
       "   smoothness_mean  compactness_mean  concavity_mean  concave points_mean  \\\n",
       "0          0.11840           0.27760          0.3001              0.14710   \n",
       "1          0.08474           0.07864          0.0869              0.07017   \n",
       "2          0.10960           0.15990          0.1974              0.12790   \n",
       "3          0.14250           0.28390          0.2414              0.10520   \n",
       "4          0.10030           0.13280          0.1980              0.10430   \n",
       "\n",
       "   ...  texture_worst  perimeter_worst  area_worst  smoothness_worst  \\\n",
       "0  ...          17.33           184.60      2019.0            0.1622   \n",
       "1  ...          23.41           158.80      1956.0            0.1238   \n",
       "2  ...          25.53           152.50      1709.0            0.1444   \n",
       "3  ...          26.50            98.87       567.7            0.2098   \n",
       "4  ...          16.67           152.20      1575.0            0.1374   \n",
       "\n",
       "   compactness_worst  concavity_worst  concave points_worst  symmetry_worst  \\\n",
       "0             0.6656           0.7119                0.2654          0.4601   \n",
       "1             0.1866           0.2416                0.1860          0.2750   \n",
       "2             0.4245           0.4504                0.2430          0.3613   \n",
       "3             0.8663           0.6869                0.2575          0.6638   \n",
       "4             0.2050           0.4000                0.1625          0.2364   \n",
       "\n",
       "   fractal_dimension_worst  Unnamed: 32  \n",
       "0                  0.11890          NaN  \n",
       "1                  0.08902          NaN  \n",
       "2                  0.08758          NaN  \n",
       "3                  0.17300          NaN  \n",
       "4                  0.07678          NaN  \n",
       "\n",
       "[5 rows x 33 columns]"
      ]
     },
     "execution_count": 48,
     "metadata": {},
     "output_type": "execute_result"
    }
   ],
   "source": [
    "#load dataset\n",
    "data=pd.read_csv('data.csv')\n",
    "data.head(5)"
   ]
  },
  {
   "cell_type": "code",
   "execution_count": 49,
   "metadata": {},
   "outputs": [
    {
     "data": {
      "text/plain": [
       "(569, 33)"
      ]
     },
     "execution_count": 49,
     "metadata": {},
     "output_type": "execute_result"
    }
   ],
   "source": [
    "#print shape\n",
    "data.shape"
   ]
  },
  {
   "cell_type": "code",
   "execution_count": 50,
   "metadata": {},
   "outputs": [],
   "source": [
    "#drop unsummary feature i.e Unnamed: 32\n",
    "data.drop('Unnamed: 32',axis=1,inplace=True)"
   ]
  },
  {
   "cell_type": "code",
   "execution_count": 51,
   "metadata": {},
   "outputs": [
    {
     "data": {
      "text/html": [
       "<div>\n",
       "<style scoped>\n",
       "    .dataframe tbody tr th:only-of-type {\n",
       "        vertical-align: middle;\n",
       "    }\n",
       "\n",
       "    .dataframe tbody tr th {\n",
       "        vertical-align: top;\n",
       "    }\n",
       "\n",
       "    .dataframe thead th {\n",
       "        text-align: right;\n",
       "    }\n",
       "</style>\n",
       "<table border=\"1\" class=\"dataframe\">\n",
       "  <thead>\n",
       "    <tr style=\"text-align: right;\">\n",
       "      <th></th>\n",
       "      <th>radius_mean</th>\n",
       "      <th>texture_mean</th>\n",
       "      <th>perimeter_mean</th>\n",
       "      <th>area_mean</th>\n",
       "      <th>smoothness_mean</th>\n",
       "      <th>compactness_mean</th>\n",
       "      <th>concavity_mean</th>\n",
       "      <th>concave points_mean</th>\n",
       "      <th>symmetry_mean</th>\n",
       "      <th>fractal_dimension_mean</th>\n",
       "      <th>...</th>\n",
       "      <th>radius_worst</th>\n",
       "      <th>texture_worst</th>\n",
       "      <th>perimeter_worst</th>\n",
       "      <th>area_worst</th>\n",
       "      <th>smoothness_worst</th>\n",
       "      <th>compactness_worst</th>\n",
       "      <th>concavity_worst</th>\n",
       "      <th>concave points_worst</th>\n",
       "      <th>symmetry_worst</th>\n",
       "      <th>fractal_dimension_worst</th>\n",
       "    </tr>\n",
       "  </thead>\n",
       "  <tbody>\n",
       "    <tr>\n",
       "      <th>0</th>\n",
       "      <td>17.99</td>\n",
       "      <td>10.38</td>\n",
       "      <td>122.8</td>\n",
       "      <td>1001.0</td>\n",
       "      <td>0.11840</td>\n",
       "      <td>0.27760</td>\n",
       "      <td>0.3001</td>\n",
       "      <td>0.14710</td>\n",
       "      <td>0.2419</td>\n",
       "      <td>0.07871</td>\n",
       "      <td>...</td>\n",
       "      <td>25.38</td>\n",
       "      <td>17.33</td>\n",
       "      <td>184.6</td>\n",
       "      <td>2019.0</td>\n",
       "      <td>0.1622</td>\n",
       "      <td>0.6656</td>\n",
       "      <td>0.7119</td>\n",
       "      <td>0.2654</td>\n",
       "      <td>0.4601</td>\n",
       "      <td>0.11890</td>\n",
       "    </tr>\n",
       "    <tr>\n",
       "      <th>1</th>\n",
       "      <td>20.57</td>\n",
       "      <td>17.77</td>\n",
       "      <td>132.9</td>\n",
       "      <td>1326.0</td>\n",
       "      <td>0.08474</td>\n",
       "      <td>0.07864</td>\n",
       "      <td>0.0869</td>\n",
       "      <td>0.07017</td>\n",
       "      <td>0.1812</td>\n",
       "      <td>0.05667</td>\n",
       "      <td>...</td>\n",
       "      <td>24.99</td>\n",
       "      <td>23.41</td>\n",
       "      <td>158.8</td>\n",
       "      <td>1956.0</td>\n",
       "      <td>0.1238</td>\n",
       "      <td>0.1866</td>\n",
       "      <td>0.2416</td>\n",
       "      <td>0.1860</td>\n",
       "      <td>0.2750</td>\n",
       "      <td>0.08902</td>\n",
       "    </tr>\n",
       "  </tbody>\n",
       "</table>\n",
       "<p>2 rows × 30 columns</p>\n",
       "</div>"
      ],
      "text/plain": [
       "   radius_mean  texture_mean  perimeter_mean  area_mean  smoothness_mean  \\\n",
       "0        17.99         10.38           122.8     1001.0          0.11840   \n",
       "1        20.57         17.77           132.9     1326.0          0.08474   \n",
       "\n",
       "   compactness_mean  concavity_mean  concave points_mean  symmetry_mean  \\\n",
       "0           0.27760          0.3001              0.14710         0.2419   \n",
       "1           0.07864          0.0869              0.07017         0.1812   \n",
       "\n",
       "   fractal_dimension_mean  ...  radius_worst  texture_worst  perimeter_worst  \\\n",
       "0                 0.07871  ...         25.38          17.33            184.6   \n",
       "1                 0.05667  ...         24.99          23.41            158.8   \n",
       "\n",
       "   area_worst  smoothness_worst  compactness_worst  concavity_worst  \\\n",
       "0      2019.0            0.1622             0.6656           0.7119   \n",
       "1      1956.0            0.1238             0.1866           0.2416   \n",
       "\n",
       "   concave points_worst  symmetry_worst  fractal_dimension_worst  \n",
       "0                0.2654          0.4601                  0.11890  \n",
       "1                0.1860          0.2750                  0.08902  \n",
       "\n",
       "[2 rows x 30 columns]"
      ]
     },
     "execution_count": 51,
     "metadata": {},
     "output_type": "execute_result"
    }
   ],
   "source": [
    "#Independent features\n",
    "#drop id and diagnosis features \n",
    "inp=data.drop(['id','diagnosis'],1)\n",
    "inp.head(2)"
   ]
  },
  {
   "cell_type": "code",
   "execution_count": 52,
   "metadata": {},
   "outputs": [
    {
     "data": {
      "text/plain": [
       "0    M\n",
       "1    M\n",
       "Name: diagnosis, dtype: object"
      ]
     },
     "execution_count": 52,
     "metadata": {},
     "output_type": "execute_result"
    }
   ],
   "source": [
    "#Dependent feature\n",
    "out=data['diagnosis']\n",
    "out.head(2)"
   ]
  },
  {
   "cell_type": "code",
   "execution_count": 53,
   "metadata": {},
   "outputs": [],
   "source": [
    "#replace M and B with 1 and 0 respectively\n",
    "out=out.replace({'M':1,'B':0})"
   ]
  },
  {
   "cell_type": "code",
   "execution_count": 54,
   "metadata": {},
   "outputs": [
    {
     "data": {
      "text/html": [
       "<div>\n",
       "<style scoped>\n",
       "    .dataframe tbody tr th:only-of-type {\n",
       "        vertical-align: middle;\n",
       "    }\n",
       "\n",
       "    .dataframe tbody tr th {\n",
       "        vertical-align: top;\n",
       "    }\n",
       "\n",
       "    .dataframe thead th {\n",
       "        text-align: right;\n",
       "    }\n",
       "</style>\n",
       "<table border=\"1\" class=\"dataframe\">\n",
       "  <thead>\n",
       "    <tr style=\"text-align: right;\">\n",
       "      <th></th>\n",
       "      <th>radius_mean</th>\n",
       "      <th>texture_mean</th>\n",
       "      <th>perimeter_mean</th>\n",
       "      <th>area_mean</th>\n",
       "      <th>smoothness_mean</th>\n",
       "      <th>compactness_mean</th>\n",
       "      <th>concavity_mean</th>\n",
       "      <th>concave points_mean</th>\n",
       "      <th>symmetry_mean</th>\n",
       "      <th>fractal_dimension_mean</th>\n",
       "      <th>...</th>\n",
       "      <th>radius_worst</th>\n",
       "      <th>texture_worst</th>\n",
       "      <th>perimeter_worst</th>\n",
       "      <th>area_worst</th>\n",
       "      <th>smoothness_worst</th>\n",
       "      <th>compactness_worst</th>\n",
       "      <th>concavity_worst</th>\n",
       "      <th>concave points_worst</th>\n",
       "      <th>symmetry_worst</th>\n",
       "      <th>fractal_dimension_worst</th>\n",
       "    </tr>\n",
       "  </thead>\n",
       "  <tbody>\n",
       "    <tr>\n",
       "      <th>0</th>\n",
       "      <td>1.097064</td>\n",
       "      <td>-2.073335</td>\n",
       "      <td>1.269934</td>\n",
       "      <td>0.984375</td>\n",
       "      <td>1.568466</td>\n",
       "      <td>3.283515</td>\n",
       "      <td>2.652874</td>\n",
       "      <td>2.532475</td>\n",
       "      <td>2.217515</td>\n",
       "      <td>2.255747</td>\n",
       "      <td>...</td>\n",
       "      <td>1.886690</td>\n",
       "      <td>-1.359293</td>\n",
       "      <td>2.303601</td>\n",
       "      <td>2.001237</td>\n",
       "      <td>1.307686</td>\n",
       "      <td>2.616665</td>\n",
       "      <td>2.109526</td>\n",
       "      <td>2.296076</td>\n",
       "      <td>2.750622</td>\n",
       "      <td>1.937015</td>\n",
       "    </tr>\n",
       "    <tr>\n",
       "      <th>1</th>\n",
       "      <td>1.829821</td>\n",
       "      <td>-0.353632</td>\n",
       "      <td>1.685955</td>\n",
       "      <td>1.908708</td>\n",
       "      <td>-0.826962</td>\n",
       "      <td>-0.487072</td>\n",
       "      <td>-0.023846</td>\n",
       "      <td>0.548144</td>\n",
       "      <td>0.001392</td>\n",
       "      <td>-0.868652</td>\n",
       "      <td>...</td>\n",
       "      <td>1.805927</td>\n",
       "      <td>-0.369203</td>\n",
       "      <td>1.535126</td>\n",
       "      <td>1.890489</td>\n",
       "      <td>-0.375612</td>\n",
       "      <td>-0.430444</td>\n",
       "      <td>-0.146749</td>\n",
       "      <td>1.087084</td>\n",
       "      <td>-0.243890</td>\n",
       "      <td>0.281190</td>\n",
       "    </tr>\n",
       "  </tbody>\n",
       "</table>\n",
       "<p>2 rows × 30 columns</p>\n",
       "</div>"
      ],
      "text/plain": [
       "   radius_mean  texture_mean  perimeter_mean  area_mean  smoothness_mean  \\\n",
       "0     1.097064     -2.073335        1.269934   0.984375         1.568466   \n",
       "1     1.829821     -0.353632        1.685955   1.908708        -0.826962   \n",
       "\n",
       "   compactness_mean  concavity_mean  concave points_mean  symmetry_mean  \\\n",
       "0          3.283515        2.652874             2.532475       2.217515   \n",
       "1         -0.487072       -0.023846             0.548144       0.001392   \n",
       "\n",
       "   fractal_dimension_mean  ...  radius_worst  texture_worst  perimeter_worst  \\\n",
       "0                2.255747  ...      1.886690      -1.359293         2.303601   \n",
       "1               -0.868652  ...      1.805927      -0.369203         1.535126   \n",
       "\n",
       "   area_worst  smoothness_worst  compactness_worst  concavity_worst  \\\n",
       "0    2.001237          1.307686           2.616665         2.109526   \n",
       "1    1.890489         -0.375612          -0.430444        -0.146749   \n",
       "\n",
       "   concave points_worst  symmetry_worst  fractal_dimension_worst  \n",
       "0              2.296076        2.750622                 1.937015  \n",
       "1              1.087084       -0.243890                 0.281190  \n",
       "\n",
       "[2 rows x 30 columns]"
      ]
     },
     "execution_count": 54,
     "metadata": {},
     "output_type": "execute_result"
    }
   ],
   "source": [
    "#Normally scaling is used for distance based algorithms(Logistic regression etc)\n",
    "#But here we doing scaling bcoz for gradient descent(convergence will take place very quickly) \n",
    "\n",
    "from sklearn.preprocessing import StandardScaler\n",
    "\n",
    "sc=StandardScaler()\n",
    "inp_sc=sc.fit_transform(inp)\n",
    "inp_sc=pd.DataFrame(inp_sc,columns=inp.columns)\n",
    "\n",
    "inp_sc.head(2)"
   ]
  },
  {
   "cell_type": "code",
   "execution_count": 55,
   "metadata": {},
   "outputs": [],
   "source": [
    "from sklearn.model_selection import train_test_split\n",
    "xtrain,xtest,ytrain,ytest=train_test_split(inp_sc,out,test_size=0.3,random_state=48)"
   ]
  },
  {
   "cell_type": "code",
   "execution_count": 56,
   "metadata": {},
   "outputs": [
    {
     "name": "stdout",
     "output_type": "stream",
     "text": [
      "shape of xtrain : (398, 30)\n",
      "shape of xtest : (171, 30)\n",
      "shape of ytrain : (398,)\n",
      "shape of ytest : (171,)\n"
     ]
    }
   ],
   "source": [
    "#Print Shape\n",
    "print(\"shape of xtrain :\",xtrain.shape)\n",
    "print(\"shape of xtest :\",xtest.shape)\n",
    "print(\"shape of ytrain :\",ytrain.shape)\n",
    "print(\"shape of ytest :\",ytest.shape)"
   ]
  },
  {
   "cell_type": "markdown",
   "metadata": {},
   "source": [
    "### Model Building"
   ]
  },
  {
   "cell_type": "markdown",
   "metadata": {},
   "source": [
    "Typically model building in Neural network follows 2 ways \n",
    "\n",
    "1. Sequential model (Most preferred )\n",
    "2. Functional model"
   ]
  },
  {
   "cell_type": "code",
   "execution_count": 57,
   "metadata": {},
   "outputs": [],
   "source": [
    "from tensorflow.keras.models import Sequential\n",
    "from tensorflow.keras.layers import Dense"
   ]
  },
  {
   "cell_type": "code",
   "execution_count": 58,
   "metadata": {},
   "outputs": [],
   "source": [
    "nn_classifier=Sequential()\n",
    "#first hideen layer\n",
    "#units=16,number of neurons in the first hidden layer\n",
    "#input_dim=number of neurons in input layers\n",
    "nn_classifier.add(Dense(units=16,activation='relu',input_dim=30))\n",
    "#second hidden layer\n",
    "#units=8 number of neurons in the second layer\n",
    "#no need to mention input_dim bcoz its a sequential layer(it knows the previous layer)\n",
    "nn_classifier.add(Dense(units=8,activation='relu'))\n",
    "nn_classifier.add(Dense(units=1,activation='sigmoid'))"
   ]
  },
  {
   "cell_type": "code",
   "execution_count": 59,
   "metadata": {},
   "outputs": [
    {
     "name": "stdout",
     "output_type": "stream",
     "text": [
      "Model: \"sequential_5\"\n",
      "_________________________________________________________________\n",
      "Layer (type)                 Output Shape              Param #   \n",
      "=================================================================\n",
      "dense_14 (Dense)             (None, 16)                496       \n",
      "_________________________________________________________________\n",
      "dense_15 (Dense)             (None, 8)                 136       \n",
      "_________________________________________________________________\n",
      "dense_16 (Dense)             (None, 1)                 9         \n",
      "=================================================================\n",
      "Total params: 641\n",
      "Trainable params: 641\n",
      "Non-trainable params: 0\n",
      "_________________________________________________________________\n"
     ]
    }
   ],
   "source": [
    "#Print summary\n",
    "nn_classifier.summary()"
   ]
  },
  {
   "cell_type": "code",
   "execution_count": 60,
   "metadata": {},
   "outputs": [],
   "source": [
    "#Number of weights and bias between input and 1st hidden layers is: (30*16)+16=496\n",
    "#Number of weights and bias between 1st hidden and second hidden layers is: (16*8)+8=136\n",
    "##Number of weights and bias between second hidden layer and output layers is: (8*1)+1=9"
   ]
  },
  {
   "cell_type": "code",
   "execution_count": 61,
   "metadata": {},
   "outputs": [],
   "source": [
    "#optimizer: which gradient descent to use(mini,stochastic,batch)    #adam is mini-batch gradient descent(it choose the learning rate smartly)\n",
    "#binary_crossentropy=binary classification\n",
    "#Categorical_crossentropy=multiclass classification\n",
    "nn_classifier.compile(optimizer='adam',loss='binary_crossentropy',metrics=['accuracy'])"
   ]
  },
  {
   "cell_type": "code",
   "execution_count": 62,
   "metadata": {},
   "outputs": [
    {
     "name": "stdout",
     "output_type": "stream",
     "text": [
      "Epoch 1/100\n",
      "13/13 [==============================] - 0s 831us/step - loss: 0.6852 - accuracy: 0.5238\n",
      "Epoch 2/100\n",
      "13/13 [==============================] - 0s 1000us/step - loss: 0.6043 - accuracy: 0.7421\n",
      "Epoch 3/100\n",
      "13/13 [==============================] - 0s 1ms/step - loss: 0.5295 - accuracy: 0.8485\n",
      "Epoch 4/100\n",
      "13/13 [==============================] - 0s 1ms/step - loss: 0.4487 - accuracy: 0.9132\n",
      "Epoch 5/100\n",
      "13/13 [==============================] - 0s 1ms/step - loss: 0.3935 - accuracy: 0.9108\n",
      "Epoch 6/100\n",
      "13/13 [==============================] - 0s 1ms/step - loss: 0.3450 - accuracy: 0.9223\n",
      "Epoch 7/100\n",
      "13/13 [==============================] - 0s 1ms/step - loss: 0.2847 - accuracy: 0.9365\n",
      "Epoch 8/100\n",
      "13/13 [==============================] - 0s 1ms/step - loss: 0.2437 - accuracy: 0.9499\n",
      "Epoch 9/100\n",
      "13/13 [==============================] - 0s 1ms/step - loss: 0.2134 - accuracy: 0.9515\n",
      "Epoch 10/100\n",
      "13/13 [==============================] - 0s 1ms/step - loss: 0.1883 - accuracy: 0.9479\n",
      "Epoch 11/100\n",
      "13/13 [==============================] - 0s 1ms/step - loss: 0.1846 - accuracy: 0.9417\n",
      "Epoch 12/100\n",
      "13/13 [==============================] - 0s 1ms/step - loss: 0.1645 - accuracy: 0.9439\n",
      "Epoch 13/100\n",
      "13/13 [==============================] - 0s 1ms/step - loss: 0.1380 - accuracy: 0.9739\n",
      "Epoch 14/100\n",
      "13/13 [==============================] - 0s 1ms/step - loss: 0.1328 - accuracy: 0.9722\n",
      "Epoch 15/100\n",
      "13/13 [==============================] - 0s 1ms/step - loss: 0.0914 - accuracy: 0.9817\n",
      "Epoch 16/100\n",
      "13/13 [==============================] - 0s 1ms/step - loss: 0.1036 - accuracy: 0.9724\n",
      "Epoch 17/100\n",
      "13/13 [==============================] - 0s 1ms/step - loss: 0.1127 - accuracy: 0.9707\n",
      "Epoch 18/100\n",
      "13/13 [==============================] - 0s 1ms/step - loss: 0.1039 - accuracy: 0.9710\n",
      "Epoch 19/100\n",
      "13/13 [==============================] - 0s 1ms/step - loss: 0.0877 - accuracy: 0.9776\n",
      "Epoch 20/100\n",
      "13/13 [==============================] - 0s 1ms/step - loss: 0.1103 - accuracy: 0.9741\n",
      "Epoch 21/100\n",
      "13/13 [==============================] - 0s 1ms/step - loss: 0.0671 - accuracy: 0.9878\n",
      "Epoch 22/100\n",
      "13/13 [==============================] - 0s 1ms/step - loss: 0.0576 - accuracy: 0.9907\n",
      "Epoch 23/100\n",
      "13/13 [==============================] - 0s 1ms/step - loss: 0.0770 - accuracy: 0.9809\n",
      "Epoch 24/100\n",
      "13/13 [==============================] - 0s 1ms/step - loss: 0.0947 - accuracy: 0.9830\n",
      "Epoch 25/100\n",
      "13/13 [==============================] - 0s 1ms/step - loss: 0.0634 - accuracy: 0.9929\n",
      "Epoch 26/100\n",
      "13/13 [==============================] - 0s 1ms/step - loss: 0.0664 - accuracy: 0.9867\n",
      "Epoch 27/100\n",
      "13/13 [==============================] - 0s 1ms/step - loss: 0.0901 - accuracy: 0.9840\n",
      "Epoch 28/100\n",
      "13/13 [==============================] - 0s 1ms/step - loss: 0.0640 - accuracy: 0.9895\n",
      "Epoch 29/100\n",
      "13/13 [==============================] - 0s 1ms/step - loss: 0.0565 - accuracy: 0.9866\n",
      "Epoch 30/100\n",
      "13/13 [==============================] - 0s 1ms/step - loss: 0.0844 - accuracy: 0.9843\n",
      "Epoch 31/100\n",
      "13/13 [==============================] - 0s 1ms/step - loss: 0.0776 - accuracy: 0.9803\n",
      "Epoch 32/100\n",
      "13/13 [==============================] - 0s 1ms/step - loss: 0.0487 - accuracy: 0.9926\n",
      "Epoch 33/100\n",
      "13/13 [==============================] - 0s 1ms/step - loss: 0.0423 - accuracy: 0.9931\n",
      "Epoch 34/100\n",
      "13/13 [==============================] - 0s 1ms/step - loss: 0.0395 - accuracy: 0.9924\n",
      "Epoch 35/100\n",
      "13/13 [==============================] - 0s 1ms/step - loss: 0.0727 - accuracy: 0.9850\n",
      "Epoch 36/100\n",
      "13/13 [==============================] - 0s 1ms/step - loss: 0.0489 - accuracy: 0.9930\n",
      "Epoch 37/100\n",
      "13/13 [==============================] - 0s 1ms/step - loss: 0.0797 - accuracy: 0.9838\n",
      "Epoch 38/100\n",
      "13/13 [==============================] - 0s 1ms/step - loss: 0.0530 - accuracy: 0.9882\n",
      "Epoch 39/100\n",
      "13/13 [==============================] - 0s 1ms/step - loss: 0.0421 - accuracy: 0.9939\n",
      "Epoch 40/100\n",
      "13/13 [==============================] - 0s 1ms/step - loss: 0.0536 - accuracy: 0.9843\n",
      "Epoch 41/100\n",
      "13/13 [==============================] - 0s 1ms/step - loss: 0.0395 - accuracy: 0.9938\n",
      "Epoch 42/100\n",
      "13/13 [==============================] - 0s 1ms/step - loss: 0.0496 - accuracy: 0.9924\n",
      "Epoch 43/100\n",
      "13/13 [==============================] - 0s 1ms/step - loss: 0.0624 - accuracy: 0.9862\n",
      "Epoch 44/100\n",
      "13/13 [==============================] - 0s 1ms/step - loss: 0.0426 - accuracy: 0.9946\n",
      "Epoch 45/100\n",
      "13/13 [==============================] - 0s 1ms/step - loss: 0.0618 - accuracy: 0.9871\n",
      "Epoch 46/100\n",
      "13/13 [==============================] - 0s 1ms/step - loss: 0.0313 - accuracy: 0.9940\n",
      "Epoch 47/100\n",
      "13/13 [==============================] - 0s 1ms/step - loss: 0.0379 - accuracy: 0.9961\n",
      "Epoch 48/100\n",
      "13/13 [==============================] - 0s 1ms/step - loss: 0.0526 - accuracy: 0.9907\n",
      "Epoch 49/100\n",
      "13/13 [==============================] - 0s 1ms/step - loss: 0.0417 - accuracy: 0.9930\n",
      "Epoch 50/100\n",
      "13/13 [==============================] - 0s 1ms/step - loss: 0.0421 - accuracy: 0.9907\n",
      "Epoch 51/100\n",
      "13/13 [==============================] - 0s 1ms/step - loss: 0.0493 - accuracy: 0.9916\n",
      "Epoch 52/100\n",
      "13/13 [==============================] - 0s 1ms/step - loss: 0.0461 - accuracy: 0.9939\n",
      "Epoch 53/100\n",
      "13/13 [==============================] - 0s 1ms/step - loss: 0.0460 - accuracy: 0.9922\n",
      "Epoch 54/100\n",
      "13/13 [==============================] - 0s 1ms/step - loss: 0.0465 - accuracy: 0.9905\n",
      "Epoch 55/100\n",
      "13/13 [==============================] - 0s 1ms/step - loss: 0.0488 - accuracy: 0.9937\n",
      "Epoch 56/100\n",
      "13/13 [==============================] - 0s 1ms/step - loss: 0.0489 - accuracy: 0.9884\n",
      "Epoch 57/100\n",
      "13/13 [==============================] - 0s 1ms/step - loss: 0.0330 - accuracy: 0.9956\n",
      "Epoch 58/100\n",
      "13/13 [==============================] - 0s 1ms/step - loss: 0.0394 - accuracy: 0.9917\n",
      "Epoch 59/100\n",
      "13/13 [==============================] - 0s 1ms/step - loss: 0.0363 - accuracy: 0.9928\n",
      "Epoch 60/100\n",
      "13/13 [==============================] - 0s 1ms/step - loss: 0.0485 - accuracy: 0.9884\n",
      "Epoch 61/100\n",
      "13/13 [==============================] - 0s 1ms/step - loss: 0.0392 - accuracy: 0.9893\n",
      "Epoch 62/100\n",
      "13/13 [==============================] - 0s 1ms/step - loss: 0.0342 - accuracy: 0.9946\n",
      "Epoch 63/100\n",
      "13/13 [==============================] - 0s 1ms/step - loss: 0.0284 - accuracy: 0.9958\n",
      "Epoch 64/100\n",
      "13/13 [==============================] - 0s 1ms/step - loss: 0.0411 - accuracy: 0.9914\n",
      "Epoch 65/100\n",
      "13/13 [==============================] - 0s 1ms/step - loss: 0.0273 - accuracy: 0.9955\n",
      "Epoch 66/100\n",
      "13/13 [==============================] - 0s 1ms/step - loss: 0.0319 - accuracy: 0.9941\n",
      "Epoch 67/100\n",
      "13/13 [==============================] - 0s 1ms/step - loss: 0.0262 - accuracy: 0.9963\n",
      "Epoch 68/100\n",
      "13/13 [==============================] - 0s 1ms/step - loss: 0.0261 - accuracy: 0.9941\n",
      "Epoch 69/100\n",
      "13/13 [==============================] - 0s 1ms/step - loss: 0.0265 - accuracy: 0.9950\n",
      "Epoch 70/100\n",
      "13/13 [==============================] - 0s 1ms/step - loss: 0.0385 - accuracy: 0.9908\n",
      "Epoch 71/100\n",
      "13/13 [==============================] - 0s 1ms/step - loss: 0.0256 - accuracy: 0.9940\n",
      "Epoch 72/100\n",
      "13/13 [==============================] - 0s 1ms/step - loss: 0.0326 - accuracy: 0.9914\n",
      "Epoch 73/100\n",
      "13/13 [==============================] - ETA: 0s - loss: 0.0114 - accuracy: 1.00 - 0s 1ms/step - loss: 0.0425 - accuracy: 0.9903\n",
      "Epoch 74/100\n",
      "13/13 [==============================] - 0s 1ms/step - loss: 0.0232 - accuracy: 0.9967\n",
      "Epoch 75/100\n",
      "13/13 [==============================] - 0s 1ms/step - loss: 0.0283 - accuracy: 0.9943\n",
      "Epoch 76/100\n",
      "13/13 [==============================] - 0s 1ms/step - loss: 0.0235 - accuracy: 0.9954\n",
      "Epoch 77/100\n",
      "13/13 [==============================] - 0s 1ms/step - loss: 0.0317 - accuracy: 0.9921\n",
      "Epoch 78/100\n",
      "13/13 [==============================] - 0s 1ms/step - loss: 0.0399 - accuracy: 0.9887\n",
      "Epoch 79/100\n",
      "13/13 [==============================] - 0s 1ms/step - loss: 0.0222 - accuracy: 0.9969\n",
      "Epoch 80/100\n",
      "13/13 [==============================] - 0s 1ms/step - loss: 0.0271 - accuracy: 0.9943\n",
      "Epoch 81/100\n",
      "13/13 [==============================] - 0s 1ms/step - loss: 0.0302 - accuracy: 0.9924\n",
      "Epoch 82/100\n"
     ]
    },
    {
     "name": "stdout",
     "output_type": "stream",
     "text": [
      "13/13 [==============================] - 0s 1ms/step - loss: 0.0371 - accuracy: 0.9905\n",
      "Epoch 83/100\n",
      "13/13 [==============================] - 0s 1ms/step - loss: 0.0219 - accuracy: 0.9954\n",
      "Epoch 84/100\n",
      "13/13 [==============================] - 0s 1ms/step - loss: 0.0350 - accuracy: 0.9879\n",
      "Epoch 85/100\n",
      "13/13 [==============================] - 0s 1ms/step - loss: 0.0351 - accuracy: 0.9882\n",
      "Epoch 86/100\n",
      "13/13 [==============================] - 0s 1ms/step - loss: 0.0258 - accuracy: 0.9938\n",
      "Epoch 87/100\n",
      "13/13 [==============================] - 0s 1ms/step - loss: 0.0322 - accuracy: 0.9902\n",
      "Epoch 88/100\n",
      "13/13 [==============================] - 0s 1ms/step - loss: 0.0355 - accuracy: 0.9884\n",
      "Epoch 89/100\n",
      "13/13 [==============================] - 0s 1ms/step - loss: 0.0141 - accuracy: 0.9974\n",
      "Epoch 90/100\n",
      "13/13 [==============================] - 0s 1ms/step - loss: 0.0270 - accuracy: 0.9908\n",
      "Epoch 91/100\n",
      "13/13 [==============================] - 0s 1ms/step - loss: 0.0175 - accuracy: 0.9969\n",
      "Epoch 92/100\n",
      "13/13 [==============================] - 0s 1ms/step - loss: 0.0178 - accuracy: 0.9960\n",
      "Epoch 93/100\n",
      "13/13 [==============================] - 0s 1ms/step - loss: 0.0216 - accuracy: 0.9938\n",
      "Epoch 94/100\n",
      "13/13 [==============================] - 0s 997us/step - loss: 0.0204 - accuracy: 0.9942\n",
      "Epoch 95/100\n",
      "13/13 [==============================] - 0s 1ms/step - loss: 0.0306 - accuracy: 0.9888\n",
      "Epoch 96/100\n",
      "13/13 [==============================] - 0s 1ms/step - loss: 0.0217 - accuracy: 0.9933\n",
      "Epoch 97/100\n",
      "13/13 [==============================] - 0s 1ms/step - loss: 0.0180 - accuracy: 0.9940\n",
      "Epoch 98/100\n",
      "13/13 [==============================] - 0s 1ms/step - loss: 0.0259 - accuracy: 0.9893\n",
      "Epoch 99/100\n",
      "13/13 [==============================] - 0s 1ms/step - loss: 0.0286 - accuracy: 0.9893\n",
      "Epoch 100/100\n",
      "13/13 [==============================] - 0s 1ms/step - loss: 0.0211 - accuracy: 0.9948\n"
     ]
    },
    {
     "data": {
      "text/plain": [
       "<tensorflow.python.keras.callbacks.History at 0x24ec7c1b280>"
      ]
     },
     "execution_count": 62,
     "metadata": {},
     "output_type": "execute_result"
    }
   ],
   "source": [
    "#batch_size: number of samples to be consider before updating weights\n",
    "#epochs: number of times a full operation to run\n",
    "\n",
    "nn_classifier.fit(xtrain,ytrain,batch_size=32,epochs=100)"
   ]
  },
  {
   "cell_type": "code",
   "execution_count": 63,
   "metadata": {},
   "outputs": [
    {
     "name": "stdout",
     "output_type": "stream",
     "text": [
      "6/6 [==============================] - 0s 998us/step - loss: 0.0888 - accuracy: 0.9766\n"
     ]
    },
    {
     "data": {
      "text/plain": [
       "[0.0888427197933197, 0.9766082167625427]"
      ]
     },
     "execution_count": 63,
     "metadata": {},
     "output_type": "execute_result"
    }
   ],
   "source": [
    "#testing\n",
    "nn_classifier.evaluate(xtest,ytest)"
   ]
  },
  {
   "cell_type": "code",
   "execution_count": 66,
   "metadata": {},
   "outputs": [],
   "source": [
    "#predictions\n",
    "ypred=nn_classifier.predict(xtest).round()"
   ]
  },
  {
   "cell_type": "markdown",
   "metadata": {},
   "source": [
    "*Interpretation:*\n",
    "\n",
    "  The Model is not suffering any overfitting issue because both train and test accuracy are same. "
   ]
  },
  {
   "cell_type": "code",
   "execution_count": 67,
   "metadata": {},
   "outputs": [
    {
     "data": {
      "text/plain": [
       "array([[94,  1],\n",
       "       [ 3, 73]], dtype=int64)"
      ]
     },
     "execution_count": 67,
     "metadata": {},
     "output_type": "execute_result"
    }
   ],
   "source": [
    "from sklearn.metrics import confusion_matrix\n",
    "confusion_matrix(ytest,ypred)"
   ]
  },
  {
   "cell_type": "code",
   "execution_count": 68,
   "metadata": {},
   "outputs": [
    {
     "name": "stdout",
     "output_type": "stream",
     "text": [
      "              precision    recall  f1-score   support\n",
      "\n",
      "           0       0.97      0.99      0.98        95\n",
      "           1       0.99      0.96      0.97        76\n",
      "\n",
      "    accuracy                           0.98       171\n",
      "   macro avg       0.98      0.97      0.98       171\n",
      "weighted avg       0.98      0.98      0.98       171\n",
      "\n"
     ]
    }
   ],
   "source": [
    "#Classification report\n",
    "from sklearn.metrics import classification_report\n",
    "print(classification_report(ytest,ypred))"
   ]
  },
  {
   "cell_type": "markdown",
   "metadata": {},
   "source": [
    " *Interpretation:*\n",
    "        \n",
    "  The model correctly classifies patients who have malignant and benign with 98% of accuaracy."
   ]
  },
  {
   "cell_type": "markdown",
   "metadata": {},
   "source": [
    "                                                    ---thank you---"
   ]
  },
  {
   "cell_type": "code",
   "execution_count": null,
   "metadata": {},
   "outputs": [],
   "source": []
  }
 ],
 "metadata": {
  "kernelspec": {
   "display_name": "Python 3",
   "language": "python",
   "name": "python3"
  },
  "language_info": {
   "codemirror_mode": {
    "name": "ipython",
    "version": 3
   },
   "file_extension": ".py",
   "mimetype": "text/x-python",
   "name": "python",
   "nbconvert_exporter": "python",
   "pygments_lexer": "ipython3",
   "version": "3.8.5"
  }
 },
 "nbformat": 4,
 "nbformat_minor": 4
}
