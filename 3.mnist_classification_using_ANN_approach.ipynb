{
 "cells": [
  {
   "cell_type": "markdown",
   "metadata": {},
   "source": [
    "In this notebook I used mnist dataset for classification of multiclass. Here I used ANN architecture for classification of images of numbers with different styles,And also discussed the effect of some hyperparamters such as learning rate,L2 regularizer and weight initializers on the model (Exploding Gradient and Vanishing Gradient)."
   ]
  },
  {
   "cell_type": "code",
   "execution_count": 3,
   "metadata": {},
   "outputs": [],
   "source": [
    "#Load required libraries\n",
    "import tensorflow as tf\n",
    "import numpy as np"
   ]
  },
  {
   "cell_type": "code",
   "execution_count": 4,
   "metadata": {},
   "outputs": [
    {
     "name": "stdout",
     "output_type": "stream",
     "text": [
      "Downloading data from https://storage.googleapis.com/tensorflow/tf-keras-datasets/mnist.npz\n",
      "11493376/11490434 [==============================] - 8s 1us/step\n"
     ]
    }
   ],
   "source": [
    "#load mnist dataset from the tensorflow.keras\n",
    "from tensorflow.keras.datasets import mnist\n",
    "(xtrain,ytrain),(xtest,ytest)=mnist.load_data()"
   ]
  },
  {
   "cell_type": "code",
   "execution_count": 6,
   "metadata": {},
   "outputs": [
    {
     "name": "stdout",
     "output_type": "stream",
     "text": [
      "xtrain shape: (60000, 28, 28)\n",
      "ytrain shape: (60000,)\n",
      "xtest shape: (10000, 28, 28)\n",
      "ytest shape: (10000,)\n"
     ]
    }
   ],
   "source": [
    "#print shapes\n",
    "print('xtrain shape:',xtrain.shape)\n",
    "print('ytrain shape:',ytrain.shape)\n",
    "print('xtest shape:',xtest.shape)\n",
    "print('ytest shape:',ytest.shape)"
   ]
  },
  {
   "cell_type": "code",
   "execution_count": null,
   "metadata": {},
   "outputs": [],
   "source": [
    "#here 60000 is samples,28*28 is shape of the each image"
   ]
  },
  {
   "cell_type": "code",
   "execution_count": 15,
   "metadata": {},
   "outputs": [
    {
     "name": "stdout",
     "output_type": "stream",
     "text": [
      "(28, 28)\n"
     ]
    }
   ],
   "source": [
    "#print shape of first image \n",
    "print(xtrain[0].shape)"
   ]
  },
  {
   "cell_type": "code",
   "execution_count": 9,
   "metadata": {},
   "outputs": [
    {
     "name": "stdout",
     "output_type": "stream",
     "text": [
      "Class of this image is: 5\n"
     ]
    },
    {
     "data": {
      "image/png": "[encoded data removed]",
      "text/plain": [
       "<Figure size 432x288 with 1 Axes>"
      ]
     },
     "metadata": {
      "needs_background": "light"
     },
     "output_type": "display_data"
    }
   ],
   "source": [
    "from matplotlib import pyplot as plt\n",
    "plt.imshow(xtrain[0,:,:])\n",
    "print('Class of this image is:',ytrain[0])"
   ]
  },
  {
   "cell_type": "code",
   "execution_count": 11,
   "metadata": {},
   "outputs": [],
   "source": [
    "#reshape xtrain,xtest as row vector\n",
    "x_train=xtrain.reshape(60000,28*28)\n",
    "x_test=xtest.reshape(10000,28*28)"
   ]
  },
  {
   "cell_type": "code",
   "execution_count": 12,
   "metadata": {},
   "outputs": [],
   "source": [
    "#Scaling\n",
    "x_train=x_train/255\n",
    "x_test=x_test/255"
   ]
  },
  {
   "cell_type": "code",
   "execution_count": 13,
   "metadata": {},
   "outputs": [],
   "source": [
    "#Encode the ytrain,ytest \n",
    "y_train=tf.keras.utils.to_categorical(ytrain,num_classes=10)\n",
    "y_test=tf.keras.utils.to_categorical(ytest,num_classes=10)"
   ]
  },
  {
   "cell_type": "code",
   "execution_count": 14,
   "metadata": {},
   "outputs": [
    {
     "name": "stdout",
     "output_type": "stream",
     "text": [
      "[[0. 0. 0. ... 0. 0. 0.]\n",
      " [1. 0. 0. ... 0. 0. 0.]\n",
      " [0. 0. 0. ... 0. 0. 0.]\n",
      " ...\n",
      " [0. 0. 0. ... 0. 0. 0.]\n",
      " [0. 0. 0. ... 0. 0. 0.]\n",
      " [0. 0. 0. ... 0. 1. 0.]]\n"
     ]
    }
   ],
   "source": [
    "#print y_train for checking the ytrain as encoded or not\n",
    "print(y_train)  #yes encoded"
   ]
  },
  {
   "cell_type": "markdown",
   "metadata": {},
   "source": [
    "#### Build a model"
   ]
  },
  {
   "cell_type": "code",
   "execution_count": 16,
   "metadata": {},
   "outputs": [],
   "source": [
    "#import required libraries for model building\n",
    "from tensorflow.keras.models import Sequential\n",
    "from tensorflow.keras.layers import Dense\n",
    "from tensorflow.keras import regularizers,optimizers"
   ]
  },
  {
   "cell_type": "code",
   "execution_count": null,
   "metadata": {},
   "outputs": [],
   "source": [
    "#training"
   ]
  },
  {
   "cell_type": "code",
   "execution_count": 99,
   "metadata": {},
   "outputs": [],
   "source": [
    "def train_and_test_model(iterations,lr,lamda):\n",
    "    \n",
    "    #Define parameters\n",
    "    iterations=iterations\n",
    "    learning_rate=lr\n",
    "    hidden_nodes=256\n",
    "    output_nodes=10\n",
    "    \n",
    "    #Build model\n",
    "    model=Sequential()\n",
    "    #input_shape=28*28,units=number of hidden neurons required in first hidden layers\n",
    "    model.add(Dense(units=hidden_nodes,activation='relu',input_shape=(784,)))\n",
    "    #Define second hidden layers,here input_shape is not required becoz layer is sequential so it will remember last layers output nodes.\n",
    "    #those output nodes are becomes input_shape for the next layer\n",
    "    model.add(Dense(units=hidden_nodes,activation='relu'))\n",
    "    #Define output layer,here activation function is softmax bcoz we have 10 classes in dataset\n",
    "    #and introduce l2 regularization\n",
    "    model.add(Dense(units=output_nodes,activation='softmax',kernel_regularizer=regularizers.l2(lamda)))\n",
    "    \n",
    "    #Define optimizer\n",
    "    #first define sgd \n",
    "    sgd=optimizers.SGD(lr=learning_rate)\n",
    "    model.compile(loss='categorical_crossentropy',metrics=['accuracy'],optimizer=sgd)\n",
    "    \n",
    "    #fit model\n",
    "    #I dont want to print the report at each batch(use verbose=0)  # want to see verbose=1\n",
    "    model.fit(x_train,y_train,epochs=iterations,batch_size=1000,verbose=0)\n",
    "    #print the report after running all epochs\n",
    "    [loss,score]=model.evaluate(x_train,y_train)\n",
    "    \n",
    "    return score\n",
    "    "
   ]
  },
  {
   "cell_type": "code",
   "execution_count": null,
   "metadata": {},
   "outputs": [],
   "source": [
    "#learning rate"
   ]
  },
  {
   "cell_type": "code",
   "execution_count": 90,
   "metadata": {},
   "outputs": [
    {
     "name": "stdout",
     "output_type": "stream",
     "text": [
      "1875/1875 [==============================] - 1s 670us/step - loss: 2.2525 - accuracy: 0.1728\n"
     ]
    },
    {
     "data": {
      "text/plain": [
       "0.17284999787807465"
      ]
     },
     "execution_count": 90,
     "metadata": {},
     "output_type": "execute_result"
    }
   ],
   "source": [
    "#lets give paramters values and check \n",
    "lr=0.0001\n",
    "lamda=0  # no regularization\n",
    "train_and_test_model(25,lr,lamda)"
   ]
  },
  {
   "cell_type": "code",
   "execution_count": null,
   "metadata": {},
   "outputs": [],
   "source": [
    "#for lr=0.0001 lamda=0 accuracy of the model is 17.28% for 25 epochs."
   ]
  },
  {
   "cell_type": "code",
   "execution_count": 91,
   "metadata": {},
   "outputs": [
    {
     "name": "stdout",
     "output_type": "stream",
     "text": [
      "1875/1875 [==============================] - 1s 666us/step - loss: 1.4051 - accuracy: 0.7344\n"
     ]
    },
    {
     "data": {
      "text/plain": [
       "0.734416663646698"
      ]
     },
     "execution_count": 91,
     "metadata": {},
     "output_type": "execute_result"
    }
   ],
   "source": [
    "#now change the lr value to 0.001\n",
    "lr=0.001\n",
    "lamda=0  # no regularization\n",
    "train_and_test_model(25,lr,lamda)"
   ]
  },
  {
   "cell_type": "code",
   "execution_count": null,
   "metadata": {},
   "outputs": [],
   "source": [
    "#lr=0.001,lamda=0 accuracy of the model is 73.4% "
   ]
  },
  {
   "cell_type": "code",
   "execution_count": 92,
   "metadata": {},
   "outputs": [
    {
     "name": "stdout",
     "output_type": "stream",
     "text": [
      "1875/1875 [==============================] - 1s 692us/step - loss: 0.1130 - accuracy: 0.9686\n"
     ]
    },
    {
     "data": {
      "text/plain": [
       "0.9685666561126709"
      ]
     },
     "execution_count": 92,
     "metadata": {},
     "output_type": "execute_result"
    }
   ],
   "source": [
    "#now change the lr value to 0.1\n",
    "lr=0.1\n",
    "lamda=0  # no regularization\n",
    "train_and_test_model(25,lr,lamda)"
   ]
  },
  {
   "cell_type": "code",
   "execution_count": null,
   "metadata": {},
   "outputs": [],
   "source": [
    "#With the reducing of learning rate model accuracy is increased to 96.8%"
   ]
  },
  {
   "cell_type": "code",
   "execution_count": 93,
   "metadata": {},
   "outputs": [
    {
     "name": "stdout",
     "output_type": "stream",
     "text": [
      "1875/1875 [==============================] - 1s 674us/step - loss: 0.3010 - accuracy: 0.9105\n"
     ]
    },
    {
     "data": {
      "text/plain": [
       "0.9104666709899902"
      ]
     },
     "execution_count": 93,
     "metadata": {},
     "output_type": "execute_result"
    }
   ],
   "source": [
    "#now change the lr value to 1\n",
    "lr=1\n",
    "lamda=0  # no regularization\n",
    "train_and_test_model(25,lr,lamda)"
   ]
  },
  {
   "cell_type": "code",
   "execution_count": null,
   "metadata": {},
   "outputs": [],
   "source": [
    "#Accuracy got dropped due to the increase of learning rate."
   ]
  },
  {
   "cell_type": "code",
   "execution_count": 95,
   "metadata": {},
   "outputs": [
    {
     "name": "stdout",
     "output_type": "stream",
     "text": [
      "1875/1875 [==============================] - 1s 680us/step - loss: 2.3488 - accuracy: 0.0992\n"
     ]
    },
    {
     "data": {
      "text/plain": [
       "0.09920000284910202"
      ]
     },
     "execution_count": 95,
     "metadata": {},
     "output_type": "execute_result"
    }
   ],
   "source": [
    "#now change the lr value to 20\n",
    "lr=20\n",
    "lamda=0  # no regularization\n",
    "train_and_test_model(25,lr,lamda)   #this problems is called exploding gradient(loss is more)"
   ]
  },
  {
   "cell_type": "code",
   "execution_count": null,
   "metadata": {},
   "outputs": [],
   "source": [
    "#Due to the high learning rate of the model ,accuracy is not good and this problem is know as Exploding gradient."
   ]
  },
  {
   "cell_type": "code",
   "execution_count": 98,
   "metadata": {},
   "outputs": [
    {
     "name": "stdout",
     "output_type": "stream",
     "text": [
      "Epoch 1/25\n",
      "60/60 [==============================] - 1s 14ms/step - loss: 2.3611 - accuracy: 0.0997\n",
      "Epoch 2/25\n",
      "60/60 [==============================] - 1s 12ms/step - loss: 2.3601 - accuracy: 0.0992\n",
      "Epoch 3/25\n",
      "60/60 [==============================] - 1s 12ms/step - loss: 2.3593 - accuracy: 0.0993\n",
      "Epoch 4/25\n",
      "60/60 [==============================] - 1s 12ms/step - loss: 2.3617 - accuracy: 0.0988\n",
      "Epoch 5/25\n",
      "60/60 [==============================] - 1s 13ms/step - loss: 2.3581 - accuracy: 0.1004\n",
      "Epoch 6/25\n",
      "60/60 [==============================] - 1s 11ms/step - loss: 2.3593 - accuracy: 0.1018\n",
      "Epoch 7/25\n",
      "60/60 [==============================] - 1s 13ms/step - loss: 2.3608 - accuracy: 0.0987\n",
      "Epoch 8/25\n",
      "60/60 [==============================] - 1s 12ms/step - loss: 2.3601 - accuracy: 0.1009\n",
      "Epoch 9/25\n",
      "60/60 [==============================] - 1s 11ms/step - loss: 2.3616 - accuracy: 0.0999\n",
      "Epoch 10/25\n",
      "60/60 [==============================] - 1s 12ms/step - loss: 2.3601 - accuracy: 0.0992\n",
      "Epoch 11/25\n",
      "60/60 [==============================] - 1s 12ms/step - loss: 2.3597 - accuracy: 0.1000\n",
      "Epoch 12/25\n",
      "60/60 [==============================] - 1s 11ms/step - loss: 2.3591 - accuracy: 0.1006\n",
      "Epoch 13/25\n",
      "60/60 [==============================] - 1s 11ms/step - loss: 2.3615 - accuracy: 0.1002\n",
      "Epoch 14/25\n",
      "60/60 [==============================] - 1s 12ms/step - loss: 2.3622 - accuracy: 0.0981\n",
      "Epoch 15/25\n",
      "60/60 [==============================] - 1s 12ms/step - loss: 2.3608 - accuracy: 0.0995\n",
      "Epoch 16/25\n",
      "60/60 [==============================] - 1s 12ms/step - loss: 2.3623 - accuracy: 0.0987\n",
      "Epoch 17/25\n",
      "60/60 [==============================] - 1s 14ms/step - loss: 2.3614 - accuracy: 0.0977 0s - loss: 2.3614 - accuracy: \n",
      "Epoch 18/25\n",
      "60/60 [==============================] - 1s 14ms/step - loss: 2.3609 - accuracy: 0.0998\n",
      "Epoch 19/25\n",
      "60/60 [==============================] - 1s 11ms/step - loss: 2.3605 - accuracy: 0.1001\n",
      "Epoch 20/25\n",
      "60/60 [==============================] - 1s 11ms/step - loss: 2.3620 - accuracy: 0.0999\n",
      "Epoch 21/25\n",
      "60/60 [==============================] - 1s 11ms/step - loss: 2.3628 - accuracy: 0.0980\n",
      "Epoch 22/25\n",
      "60/60 [==============================] - 1s 11ms/step - loss: 2.3606 - accuracy: 0.0994\n",
      "Epoch 23/25\n",
      "60/60 [==============================] - 1s 12ms/step - loss: 2.3599 - accuracy: 0.1004\n",
      "Epoch 24/25\n",
      "60/60 [==============================] - 1s 12ms/step - loss: 2.3590 - accuracy: 0.1012\n",
      "Epoch 25/25\n",
      "60/60 [==============================] - 1s 12ms/step - loss: 2.3615 - accuracy: 0.0988\n",
      "1875/1875 [==============================] - 2s 913us/step - loss: 2.3608 - accuracy: 0.0997\n"
     ]
    },
    {
     "data": {
      "text/plain": [
       "0.09973333030939102"
      ]
     },
     "execution_count": 98,
     "metadata": {},
     "output_type": "execute_result"
    }
   ],
   "source": [
    " #now change the lr value to 0.0000000001\n",
    "lr=0.0000000001\n",
    "lamda=0  # no regularization\n",
    "train_and_test_model(25,lr,lamda)   #this problems is called vanishing gradient(loss is more)"
   ]
  },
  {
   "cell_type": "code",
   "execution_count": null,
   "metadata": {},
   "outputs": [],
   "source": [
    "#here is loss is remains same for all epochs.. this called vanishing gradient "
   ]
  },
  {
   "cell_type": "markdown",
   "metadata": {},
   "source": [
    "#### L2-regularizers"
   ]
  },
  {
   "cell_type": "code",
   "execution_count": 100,
   "metadata": {},
   "outputs": [
    {
     "name": "stdout",
     "output_type": "stream",
     "text": [
      "1875/1875 [==============================] - 1s 675us/step - loss: 0.3980 - accuracy: 0.9171\n"
     ]
    },
    {
     "data": {
      "text/plain": [
       "0.9170500040054321"
      ]
     },
     "execution_count": 100,
     "metadata": {},
     "output_type": "execute_result"
    }
   ],
   "source": [
    "#now give the lambda value\n",
    "lr=0.1\n",
    "lamda=0.1  #  regularization\n",
    "train_and_test_model(25,lr,lamda)"
   ]
  },
  {
   "cell_type": "code",
   "execution_count": 105,
   "metadata": {},
   "outputs": [
    {
     "name": "stdout",
     "output_type": "stream",
     "text": [
      "1875/1875 [==============================] - 2s 896us/step - loss: 0.7921 - accuracy: 0.8625\n"
     ]
    },
    {
     "data": {
      "text/plain": [
       "0.8624666929244995"
      ]
     },
     "execution_count": 105,
     "metadata": {},
     "output_type": "execute_result"
    }
   ],
   "source": [
    "lr=0.1\n",
    "lamda=1  #  regularization\n",
    "train_and_test_model(25,lr,lamda)"
   ]
  },
  {
   "cell_type": "code",
   "execution_count": null,
   "metadata": {},
   "outputs": [],
   "source": [
    "#try different lambda values\n",
    "#lamda=0.1:accuracy is 91.7%\n",
    "#lamda=0.01:accuracy is 94.62%\n",
    "#lamda=0.001:accuracy is 96.51%\n",
    "#lamda=0.0001:accuracy is 96.93%\n",
    "#lamda=0.00001:accuracy is 96.78%\n",
    "#lamda=1:accuracy is 82.24%\n",
    "#increasing or decreasing of lambda value to a greater extends,accuracy will get reduce so be caution with lambda value"
   ]
  },
  {
   "cell_type": "code",
   "execution_count": null,
   "metadata": {},
   "outputs": [],
   "source": [
    "#testing"
   ]
  },
  {
   "cell_type": "code",
   "execution_count": 106,
   "metadata": {},
   "outputs": [],
   "source": [
    "def train_and_test_model(iterations,lr,lamda):\n",
    "    \n",
    "    #Define parameters\n",
    "    iterations=iterations\n",
    "    learning_rate=lr\n",
    "    hidden_nodes=256\n",
    "    output_nodes=10\n",
    "    \n",
    "    #Build model\n",
    "    model=Sequential()\n",
    "    #input_shape=28*28,units=number of hidden neurons required in first hidden layers\n",
    "    model.add(Dense(units=hidden_nodes,activation='relu',input_shape=(784,)))\n",
    "    #Define second hidden layers,here input_shape is not required becoz layer is sequential so it will remember last layers output nodes.\n",
    "    #those output nodes are becomes input_shape for the next layer\n",
    "    model.add(Dense(units=hidden_nodes,activation='relu'))\n",
    "    #Define output layer,here activation function is softmax bcoz we have 10 classes in classification\n",
    "    #and introduce l2 regularization\n",
    "    model.add(Dense(units=output_nodes,activation='softmax',kernel_regularizer=regularizers.l2(lamda)))\n",
    "    \n",
    "    #Define optimizer\n",
    "    #first define sgd \n",
    "    sgd=optimizers.SGD(lr=learning_rate)\n",
    "    model.compile(loss='categorical_crossentropy',metrics=['accuracy'],optimizer=sgd)\n",
    "    \n",
    "    #fit model\n",
    "    #If I dont want to print the report at each batch(use verbose=0)  # if you want to see verbose=1\n",
    "    model.fit(x_train,y_train,epochs=iterations,batch_size=1000,verbose=0)\n",
    "    #print the report after running all epochs\n",
    "    [loss,train_score]=model.evaluate(x_train,y_train)\n",
    "    [loss,test_score]=model.evaluate(x_test,y_test)\n",
    "    \n",
    "    return train_score,test_score"
   ]
  },
  {
   "cell_type": "code",
   "execution_count": 108,
   "metadata": {},
   "outputs": [
    {
     "name": "stdout",
     "output_type": "stream",
     "text": [
      "1875/1875 [==============================] - 1s 716us/step - loss: 0.1211 - accuracy: 0.9672\n",
      "313/313 [==============================] - 2s 1ms/step - loss: 0.1322 - accuracy: 0.9623\n"
     ]
    },
    {
     "data": {
      "text/plain": [
       "(0.9671833515167236, 0.9623000025749207)"
      ]
     },
     "execution_count": 108,
     "metadata": {},
     "output_type": "execute_result"
    }
   ],
   "source": [
    "lr=0.1\n",
    "lamda=0.0001  #  regularization\n",
    "train_and_test_model(25,lr,lamda) #less overfitting"
   ]
  },
  {
   "cell_type": "markdown",
   "metadata": {},
   "source": [
    "*Interpretation:*\n",
    "    \n",
    "   This model is free of overfitting issue because both train and test accuracy are same."
   ]
  },
  {
   "cell_type": "code",
   "execution_count": 109,
   "metadata": {},
   "outputs": [
    {
     "name": "stdout",
     "output_type": "stream",
     "text": [
      "1875/1875 [==============================] - 1s 723us/step - loss: 217.5611 - accuracy: 0.1316\n",
      "313/313 [==============================] - 1s 1ms/step - loss: 217.5608 - accuracy: 0.1351\n"
     ]
    },
    {
     "data": {
      "text/plain": [
       "(0.13163332641124725, 0.13510000705718994)"
      ]
     },
     "execution_count": 109,
     "metadata": {},
     "output_type": "execute_result"
    }
   ],
   "source": [
    "lr=0.1\n",
    "lamda=10   #  regularization\n",
    "train_and_test_model(25,lr,lamda) # underfitting "
   ]
  },
  {
   "cell_type": "code",
   "execution_count": null,
   "metadata": {},
   "outputs": [],
   "source": [
    "#This model is underfitting"
   ]
  },
  {
   "cell_type": "markdown",
   "metadata": {},
   "source": [
    "#### HyperParameter Tuning"
   ]
  },
  {
   "cell_type": "code",
   "execution_count": 110,
   "metadata": {},
   "outputs": [
    {
     "name": "stdout",
     "output_type": "stream",
     "text": [
      "1875/1875 [==============================] - 1s 708us/step - loss: 0.1547 - accuracy: 0.9673\n",
      "313/313 [==============================] - 0s 1ms/step - loss: 0.1640 - accuracy: 0.9611\n",
      "k: 1 epocs: 100 accuracy: (0.9672999978065491, 0.9610999822616577) alpha: 0.2902043822654981 Regularization: 0.0014144062948781258\n",
      "1875/1875 [==============================] - 1s 715us/step - loss: 2.4218 - accuracy: 0.0684\n",
      "313/313 [==============================] - 0s 1ms/step - loss: 2.4233 - accuracy: 0.0731\n",
      "k: 2 epocs: 100 accuracy: (0.06844999641180038, 0.0731000006198883) alpha: 1.1787137358188025e-05 Regularization: 2.716798682745542e-05\n",
      "1875/1875 [==============================] - 2s 841us/step - loss: 2.1957 - accuracy: 0.5170\n",
      "313/313 [==============================] - 0s 1ms/step - loss: 2.1894 - accuracy: 0.5312\n",
      "k: 3 epocs: 100 accuracy: (0.5169666409492493, 0.5311999917030334) alpha: 0.0009173041145094651 Regularization: 0.009989352328536814\n",
      "1875/1875 [==============================] - 2s 875us/step - loss: 2.1400 - accuracy: 0.3727\n",
      "313/313 [==============================] - 1s 1ms/step - loss: 2.1358 - accuracy: 0.3803\n",
      "k: 4 epocs: 100 accuracy: (0.3726833462715149, 0.38029998540878296) alpha: 0.0005455863401665111 Regularization: 1.0119515389150816e-06\n",
      "1875/1875 [==============================] - 2s 1ms/step - loss: 1.9321 - accuracy: 0.5874\n",
      "313/313 [==============================] - 1s 1ms/step - loss: 1.9220 - accuracy: 0.5987\n",
      "k: 5 epocs: 100 accuracy: (0.5874333381652832, 0.5986999869346619) alpha: 0.001226223684978512 Regularization: 0.000835211779115911\n",
      "1875/1875 [==============================] - 2s 752us/step - loss: 2.3061 - accuracy: 0.1080\n",
      "313/313 [==============================] - 0s 1ms/step - loss: 2.3098 - accuracy: 0.1079\n",
      "k: 6 epocs: 100 accuracy: (0.10803333669900894, 0.10790000110864639) alpha: 2.5753036342903603e-05 Regularization: 1.5339497199700382e-07\n",
      "1875/1875 [==============================] - 1s 709us/step - loss: 2.3272 - accuracy: 0.0874\n",
      "313/313 [==============================] - 1s 1ms/step - loss: 2.3279 - accuracy: 0.0880\n",
      "k: 7 epocs: 100 accuracy: (0.08735000342130661, 0.08799999952316284) alpha: 3.060923188125463e-06 Regularization: 5.10632309189602e-06\n",
      "1875/1875 [==============================] - 1s 723us/step - loss: 2.3364 - accuracy: 0.1115\n",
      "313/313 [==============================] - 1s 1ms/step - loss: 2.3381 - accuracy: 0.1103\n",
      "k: 8 epocs: 100 accuracy: (0.11145000159740448, 0.11029999703168869) alpha: 3.064831750413711e-06 Regularization: 0.0010775455249945646\n",
      "1875/1875 [==============================] - 2s 767us/step - loss: 0.2141 - accuracy: 0.9463\n",
      "313/313 [==============================] - 0s 1ms/step - loss: 0.2142 - accuracy: 0.9448\n",
      "k: 9 epocs: 100 accuracy: (0.946316659450531, 0.9448000192642212) alpha: 0.12331716260465292 Regularization: 0.0008832253998734603\n"
     ]
    }
   ],
   "source": [
    "#Coarse tuning\n",
    "import math \n",
    "for k in range(1,10):\n",
    "    lr=math.pow(10,np.random.uniform(-7.0,3.0))\n",
    "    lamda=math.pow(10,np.random.uniform(-7,-2))\n",
    "\n",
    "    best_acc=train_and_test_model(10,lr,lamda)\n",
    "    \n",
    "    print('k:',k,'epocs:',100,'accuracy:',best_acc,'alpha:',lr,'Regularization:',lamda)"
   ]
  },
  {
   "cell_type": "markdown",
   "metadata": {},
   "source": [
    "*Interpretation:*\n",
    "    \n",
    "   alpha=0.29,regularization=0.0014144 for these values my model is giving the best result.\n",
    "    \n",
    "   "
   ]
  },
  {
   "cell_type": "markdown",
   "metadata": {},
   "source": [
    "#### Weight Initailization"
   ]
  },
  {
   "cell_type": "markdown",
   "metadata": {},
   "source": [
    "Some weights initializers are\n",
    "1. GLOROT Uniform  (keras uses this weight initializer)\n",
    "\n",
    "weigth_intializer=np.sqrt(3/(fan_avg))\n",
    "\n",
    "fan_avg=(fav_in+fan_out)/2\n",
    "\n",
    "2. He-normal"
   ]
  },
  {
   "cell_type": "code",
   "execution_count": 112,
   "metadata": {},
   "outputs": [],
   "source": [
    "from tensorflow.keras.layers import Dropout\n",
    "\n",
    "def tune_model(learning_rate,activation,dropout_rate,initializer,num_unit):\n",
    "\n",
    "    \n",
    "    model=Sequential()\n",
    "    model.add(Dense(units=num_unit,activation=activation,kernel_initializer=initializer,input_shape=(784,)))\n",
    "    model.add(Dropout(dropout_rate))\n",
    "    model.add(Dense(units=num_unit,activation=activation,kernel_initializer=initializer))\n",
    "    model.add(Dropout(dropout_rate))\n",
    "    model.add(Dense(units=10,activation='softmax',kernel_regularizer=regularizers.l2(lamda)))\n",
    "    sgd=optimizers.SGD(lr=learning_rate)\n",
    "    model.compile(loss='categorical_crossentropy',metrics=['accuracy'],optimizer=sgd)\n",
    "    \n",
    "    return model\n",
    "    "
   ]
  },
  {
   "cell_type": "code",
   "execution_count": 113,
   "metadata": {},
   "outputs": [],
   "source": [
    "#Lets define parameters\n",
    "batch_size=[20,50,100][:1]\n",
    "epochs=[1,20,50][:1]\n",
    "initializer=['lecun_uniform','normal','he_normal','he_uniform'][:1]\n",
    "learning_rate=[0.1,0.001,0.02][:1]\n",
    "dropout_rate=[0.3,0.2,0.8][:1]\n",
    "num_unit=[10,5][:1]\n",
    "activation=['relu','tanh','sigmoid','hard_sigmoid','linear'][:1]"
   ]
  },
  {
   "cell_type": "code",
   "execution_count": 114,
   "metadata": {},
   "outputs": [],
   "source": [
    "parameters=dict(batch_size=batch_size,\n",
    "               epochs=epochs,\n",
    "               learning_rate=learning_rate,\n",
    "               dropout_rate=dropout_rate,\n",
    "               num_unit=num_unit,\n",
    "               initializer=initializer,\n",
    "               activation=activation)"
   ]
  },
  {
   "cell_type": "code",
   "execution_count": 115,
   "metadata": {},
   "outputs": [],
   "source": [
    "#This package converts to model into scikit learn form\n",
    "model=tf.keras.wrappers.scikit_learn.KerasClassifier(build_fn=tune_model,verbose=0)"
   ]
  },
  {
   "cell_type": "code",
   "execution_count": 116,
   "metadata": {},
   "outputs": [],
   "source": [
    "#Now model is converted to scikit learn form, so now we can apply grid search cv on it.\n",
    "\n",
    "from sklearn.model_selection import GridSearchCV\n",
    "models=GridSearchCV(estimator=model,param_grid=parameters,n_jobs=1)"
   ]
  },
  {
   "cell_type": "code",
   "execution_count": 117,
   "metadata": {},
   "outputs": [
    {
     "name": "stdout",
     "output_type": "stream",
     "text": [
      "Best model: {'activation': 'relu', 'batch_size': 20, 'dropout_rate': 0.3, 'epochs': 1, 'initializer': 'lecun_uniform', 'learning_rate': 0.1, 'num_unit': 10}\n"
     ]
    }
   ],
   "source": [
    "best_model=models.fit(x_train,y_train)\n",
    "print('Best model:',best_model.best_params_)"
   ]
  },
  {
   "cell_type": "code",
   "execution_count": 120,
   "metadata": {},
   "outputs": [
    {
     "data": {
      "text/plain": [
       "0.8328666687011719"
      ]
     },
     "execution_count": 120,
     "metadata": {},
     "output_type": "execute_result"
    }
   ],
   "source": [
    "best_model.best_score_"
   ]
  },
  {
   "cell_type": "code",
   "execution_count": null,
   "metadata": {},
   "outputs": [],
   "source": [
    "#For these values my model is giving 83.28%."
   ]
  },
  {
   "cell_type": "markdown",
   "metadata": {},
   "source": [
    "                                              ---Thank you---"
   ]
  },
  {
   "cell_type": "code",
   "execution_count": null,
   "metadata": {},
   "outputs": [],
   "source": []
  }
 ],
 "metadata": {
  "kernelspec": {
   "display_name": "Python 3",
   "language": "python",
   "name": "python3"
  },
  "language_info": {
   "codemirror_mode": {
    "name": "ipython",
    "version": 3
   },
   "file_extension": ".py",
   "mimetype": "text/x-python",
   "name": "python",
   "nbconvert_exporter": "python",
   "pygments_lexer": "ipython3",
   "version": "3.8.5"
  }
 },
 "nbformat": 4,
 "nbformat_minor": 4
}
